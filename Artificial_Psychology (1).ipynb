{
  "cells": [
    {
      "cell_type": "code",
      "execution_count": null,
      "metadata": {
        "id": "z6Q8kk_DoPcA"
      },
      "outputs": [],
      "source": [
        "import re\n",
        "import random"
      ]
    },
    {
      "cell_type": "code",
      "execution_count": null,
      "metadata": {
        "colab": {
          "background_save": true,
          "base_uri": "https://localhost:8080/"
        },
        "id": "xVMOto5No6X5",
        "outputId": "420f38cf-365d-4a90-ef7f-0f33cd8d24e2"
      },
      "outputs": [
        {
          "name": "stderr",
          "output_type": "stream",
          "text": [
            "[nltk_data] Downloading package punkt to /root/nltk_data...\n",
            "[nltk_data]   Package punkt is already up-to-date!\n",
            "[nltk_data] Downloading package wordnet to /root/nltk_data...\n",
            "[nltk_data]   Package wordnet is already up-to-date!\n"
          ]
        },
        {
          "name": "stdout",
          "output_type": "stream",
          "text": [
            "Aarya: Hello! I'm here to listen and provide support. How can I help you today?\n"
          ]
        }
      ],
      "source": [
        "import random\n",
        "import nltk\n",
        "from nltk.corpus import wordnet\n",
        "from nltk.tokenize import word_tokenize\n",
        "from nltk.stem import WordNetLemmatizer\n",
        "\n",
        "# Initialize NLTK components\n",
        "nltk.download('punkt')\n",
        "nltk.download('wordnet')\n",
        "\n",
        "\n",
        "greetings = [\"Hello!\", \"Here you are!\", \"Good to see you!\", \"Hey! How can I help you today?\",\"Hi\",\"Hey\"]\n",
        "farewells = [\"Goodbye!\", \"Take care!\", \"Bye!\", \"See you soon!\"]\n",
        "fallback_responses = [\"Sorry I can't response to that\",\"Please try another way:(\"]\n",
        "therapy_responses = {\n",
        "    \"Die\": [\" Please Don't say that \",\"sorry to here that but why? :(\",\"You Shouldn't every life is precious\"],\n",
        "    \"Depressed \": [ \" We feel sometimes that way... But its okay I am here for you\", \"What happened tell me everything!!\"],\n",
        "    \"broke\": [\"It's okay it happens just go with the flow , everything happens for a reason\"],\n",
        "    \"sad\": [\"I'm sorry to hear that. Can you tell me more?\", \"It's okay to feel sad. Let's explore your feelings.\", \"Remember that you're not alone in feeling this way.\"],\n",
        "    \"anxious\": [\"Feeling anxious is tough. What's causing your anxiety?\", \"Take a deep breath and try to focus on the present moment.\", \"Let's work together to manage your anxiety.\"],\n",
        "    \"issues\": [\"Okay, Be calm...you can share it with me , can you tell me what are your issues\"],\n",
        "    \"happy\" : [\"I'm Glad😄\",\"wow! what's the great news?🥴\"]\n",
        "}\n",
        "\n",
        "def get_synonyms(word):\n",
        "    synonyms = set()\n",
        "    for syn in wordnet.synsets(word):\n",
        "        for lemma in syn.lemmas():\n",
        "            synonyms.add(lemma.name())\n",
        "    return list(synonyms)\n",
        "\n",
        "def lemmatize_words(words):\n",
        "    lemmatizer = WordNetLemmatizer()\n",
        "    return [lemmatizer.lemmatize(word.lower()) for word in words]\n",
        "\n",
        "def get_response(user_input):\n",
        "    # Preprocess user input\n",
        "    tokens = word_tokenize(user_input)\n",
        "    tokens = lemmatize_words(tokens)\n",
        "\n",
        "    # Check for greetings and farewells\n",
        "    for word in tokens:\n",
        "        if word.lower() in [\"hello\", \"hi\", \"hey\", \"greetings\"]:\n",
        "            return random.choice(greetings)\n",
        "        elif word.lower() in [\"goodbye\", \"bye\", \"see you\", \"farewell\"]:\n",
        "            return random.choice(farewells)\n",
        "\n",
        "    # Check for specific emotions in the user input\n",
        "    for emotion, response_list in therapy_responses.items():\n",
        "        synonyms = get_synonyms(emotion)\n",
        "        for word in tokens:\n",
        "            if word.lower() in synonyms:\n",
        "                return random.choice(response_list)\n",
        "\n",
        "    # Fallback response if no match found\n",
        "    return random.choice(fallback_responses)\n",
        "\n",
        "# Main loop for chatbot interaction\n",
        "print(\"Aarya: Hello! I'm here to listen and provide support. How can I help you today?\")\n",
        "while True:\n",
        "    user_input = input(\"You: \")\n",
        "    if user_input.lower() in [\"exit\", \"quit\", \"end\"]:\n",
        "        print(\"Aarya: Goodbye! Take care.\")\n",
        "        break\n",
        "    response = get_response(user_input)\n",
        "    print(\"Aarya:\", response)\n"
      ]
    }
  ],
  "metadata": {
    "colab": {
      "provenance": []
    },
    "kernelspec": {
      "display_name": "Python 3",
      "name": "python3"
    },
    "language_info": {
      "name": "python"
    }
  },
  "nbformat": 4,
  "nbformat_minor": 0
}