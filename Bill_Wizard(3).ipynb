{
  "nbformat": 4,
  "nbformat_minor": 0,
  "metadata": {
    "colab": {
      "provenance": [],
      "gpuType": "T4",
      "include_colab_link": true
    },
    "kernelspec": {
      "name": "python3",
      "display_name": "Python 3"
    },
    "language_info": {
      "name": "python"
    },
    "accelerator": "GPU"
  },
  "cells": [
    {
      "cell_type": "markdown",
      "metadata": {
        "id": "view-in-github",
        "colab_type": "text"
      },
      "source": [
        "<a href=\"https://colab.research.google.com/github/KARTIKAY2003/Project/blob/main/Bill_Wizard(3).ipynb\" target=\"_parent\"><img src=\"https://colab.research.google.com/assets/colab-badge.svg\" alt=\"Open In Colab\"/></a>"
      ]
    },
    {
      "cell_type": "code",
      "source": [
        "!pip install tesseract"
      ],
      "metadata": {
        "id": "cm4s1Gz_HyuQ",
        "colab": {
          "base_uri": "https://localhost:8080/"
        },
        "outputId": "f888ac52-e5cf-41cd-ae8c-d8303b370e37"
      },
      "execution_count": 1,
      "outputs": [
        {
          "output_type": "stream",
          "name": "stdout",
          "text": [
            "Collecting tesseract\n",
            "  Downloading tesseract-0.1.3.tar.gz (45.6 MB)\n",
            "\u001b[2K     \u001b[90m━━━━━━━━━━━━━━━━━━━━━━━━━━━━━━━━━━━━━━━━\u001b[0m \u001b[32m45.6/45.6 MB\u001b[0m \u001b[31m10.4 MB/s\u001b[0m eta \u001b[36m0:00:00\u001b[0m\n",
            "\u001b[?25h  Preparing metadata (setup.py) ... \u001b[?25l\u001b[?25hdone\n",
            "Building wheels for collected packages: tesseract\n",
            "  Building wheel for tesseract (setup.py) ... \u001b[?25l\u001b[?25hdone\n",
            "  Created wheel for tesseract: filename=tesseract-0.1.3-py3-none-any.whl size=45562552 sha256=0c9ff97da0ec14594ee5ed1f808356ae9ceb2efa11604ef24370bec55d246659\n",
            "  Stored in directory: /root/.cache/pip/wheels/71/c9/aa/698c579693e83fdda9ad6d6f0d8f61ed986e27925ef576f109\n",
            "Successfully built tesseract\n",
            "Installing collected packages: tesseract\n",
            "Successfully installed tesseract-0.1.3\n"
          ]
        }
      ]
    },
    {
      "cell_type": "code",
      "source": [
        "!pip install pytesseract"
      ],
      "metadata": {
        "id": "f65KQBpaHzvR",
        "colab": {
          "base_uri": "https://localhost:8080/"
        },
        "outputId": "7f7e4443-707f-4d1b-8289-601beed22acb"
      },
      "execution_count": 2,
      "outputs": [
        {
          "output_type": "stream",
          "name": "stdout",
          "text": [
            "Collecting pytesseract\n",
            "  Downloading pytesseract-0.3.13-py3-none-any.whl.metadata (11 kB)\n",
            "Requirement already satisfied: packaging>=21.3 in /usr/local/lib/python3.10/dist-packages (from pytesseract) (24.1)\n",
            "Requirement already satisfied: Pillow>=8.0.0 in /usr/local/lib/python3.10/dist-packages (from pytesseract) (10.4.0)\n",
            "Downloading pytesseract-0.3.13-py3-none-any.whl (14 kB)\n",
            "Installing collected packages: pytesseract\n",
            "Successfully installed pytesseract-0.3.13\n"
          ]
        }
      ]
    },
    {
      "cell_type": "code",
      "source": [
        "!pip install opencv-python"
      ],
      "metadata": {
        "colab": {
          "base_uri": "https://localhost:8080/"
        },
        "id": "-Yg6aOABIVv3",
        "outputId": "10ad8491-7f2d-4f68-ed65-9fadaaf9ac1f"
      },
      "execution_count": 3,
      "outputs": [
        {
          "output_type": "stream",
          "name": "stdout",
          "text": [
            "Requirement already satisfied: opencv-python in /usr/local/lib/python3.10/dist-packages (4.10.0.84)\n",
            "Requirement already satisfied: numpy>=1.21.2 in /usr/local/lib/python3.10/dist-packages (from opencv-python) (1.26.4)\n"
          ]
        }
      ]
    },
    {
      "cell_type": "code",
      "source": [
        "!pip install scikit-learn pandas"
      ],
      "metadata": {
        "colab": {
          "base_uri": "https://localhost:8080/"
        },
        "id": "OlOpl-53IdHc",
        "outputId": "815ccc34-b698-40bf-9122-23f23d855c68"
      },
      "execution_count": 4,
      "outputs": [
        {
          "output_type": "stream",
          "name": "stdout",
          "text": [
            "Requirement already satisfied: scikit-learn in /usr/local/lib/python3.10/dist-packages (1.3.2)\n",
            "Requirement already satisfied: pandas in /usr/local/lib/python3.10/dist-packages (2.1.4)\n",
            "Requirement already satisfied: numpy<2.0,>=1.17.3 in /usr/local/lib/python3.10/dist-packages (from scikit-learn) (1.26.4)\n",
            "Requirement already satisfied: scipy>=1.5.0 in /usr/local/lib/python3.10/dist-packages (from scikit-learn) (1.13.1)\n",
            "Requirement already satisfied: joblib>=1.1.1 in /usr/local/lib/python3.10/dist-packages (from scikit-learn) (1.4.2)\n",
            "Requirement already satisfied: threadpoolctl>=2.0.0 in /usr/local/lib/python3.10/dist-packages (from scikit-learn) (3.5.0)\n",
            "Requirement already satisfied: python-dateutil>=2.8.2 in /usr/local/lib/python3.10/dist-packages (from pandas) (2.8.2)\n",
            "Requirement already satisfied: pytz>=2020.1 in /usr/local/lib/python3.10/dist-packages (from pandas) (2024.2)\n",
            "Requirement already satisfied: tzdata>=2022.1 in /usr/local/lib/python3.10/dist-packages (from pandas) (2024.1)\n",
            "Requirement already satisfied: six>=1.5 in /usr/local/lib/python3.10/dist-packages (from python-dateutil>=2.8.2->pandas) (1.16.0)\n"
          ]
        }
      ]
    },
    {
      "cell_type": "code",
      "execution_count": 5,
      "metadata": {
        "id": "OKt1x00NHsz8"
      },
      "outputs": [],
      "source": [
        "from PIL import Image\n",
        "import pytesseract\n",
        "import argparse\n",
        "import cv2\n",
        "import os\n",
        "import pandas as pd\n",
        "import seaborn as sns\n",
        "import matplotlib.pyplot as plt\n",
        "import numpy as np\n",
        "import csv\n",
        "import nltk\n",
        "import re\n",
        "from nltk.tokenize import word_tokenize\n",
        "from nltk.corpus import wordnet"
      ]
    },
    {
      "cell_type": "code",
      "source": [
        "!sudo apt-get install tesseract-ocr"
      ],
      "metadata": {
        "colab": {
          "base_uri": "https://localhost:8080/"
        },
        "id": "-6lBavtaJvb8",
        "outputId": "9a869216-e291-42b4-f994-e32e3a346586"
      },
      "execution_count": 7,
      "outputs": [
        {
          "output_type": "stream",
          "name": "stdout",
          "text": [
            "Reading package lists... Done\n",
            "Building dependency tree... Done\n",
            "Reading state information... Done\n",
            "The following additional packages will be installed:\n",
            "  tesseract-ocr-eng tesseract-ocr-osd\n",
            "The following NEW packages will be installed:\n",
            "  tesseract-ocr tesseract-ocr-eng tesseract-ocr-osd\n",
            "0 upgraded, 3 newly installed, 0 to remove and 49 not upgraded.\n",
            "Need to get 4,816 kB of archives.\n",
            "After this operation, 15.6 MB of additional disk space will be used.\n",
            "Get:1 http://archive.ubuntu.com/ubuntu jammy/universe amd64 tesseract-ocr-eng all 1:4.00~git30-7274cfa-1.1 [1,591 kB]\n",
            "Get:2 http://archive.ubuntu.com/ubuntu jammy/universe amd64 tesseract-ocr-osd all 1:4.00~git30-7274cfa-1.1 [2,990 kB]\n",
            "Get:3 http://archive.ubuntu.com/ubuntu jammy/universe amd64 tesseract-ocr amd64 4.1.1-2.1build1 [236 kB]\n",
            "Fetched 4,816 kB in 1s (9,196 kB/s)\n",
            "debconf: unable to initialize frontend: Dialog\n",
            "debconf: (No usable dialog-like program is installed, so the dialog based frontend cannot be used. at /usr/share/perl5/Debconf/FrontEnd/Dialog.pm line 78, <> line 3.)\n",
            "debconf: falling back to frontend: Readline\n",
            "debconf: unable to initialize frontend: Readline\n",
            "debconf: (This frontend requires a controlling tty.)\n",
            "debconf: falling back to frontend: Teletype\n",
            "dpkg-preconfigure: unable to re-open stdin: \n",
            "Selecting previously unselected package tesseract-ocr-eng.\n",
            "(Reading database ... 123599 files and directories currently installed.)\n",
            "Preparing to unpack .../tesseract-ocr-eng_1%3a4.00~git30-7274cfa-1.1_all.deb ...\n",
            "Unpacking tesseract-ocr-eng (1:4.00~git30-7274cfa-1.1) ...\n",
            "Selecting previously unselected package tesseract-ocr-osd.\n",
            "Preparing to unpack .../tesseract-ocr-osd_1%3a4.00~git30-7274cfa-1.1_all.deb ...\n",
            "Unpacking tesseract-ocr-osd (1:4.00~git30-7274cfa-1.1) ...\n",
            "Selecting previously unselected package tesseract-ocr.\n",
            "Preparing to unpack .../tesseract-ocr_4.1.1-2.1build1_amd64.deb ...\n",
            "Unpacking tesseract-ocr (4.1.1-2.1build1) ...\n",
            "Setting up tesseract-ocr-eng (1:4.00~git30-7274cfa-1.1) ...\n",
            "Setting up tesseract-ocr-osd (1:4.00~git30-7274cfa-1.1) ...\n",
            "Setting up tesseract-ocr (4.1.1-2.1build1) ...\n",
            "Processing triggers for man-db (2.10.2-1) ...\n"
          ]
        }
      ]
    },
    {
      "cell_type": "code",
      "source": [
        "from google.colab import drive\n",
        "drive.mount('/content/drive')\n",
        "image=cv2.imread('/content/drive/MyDrive/Screenshot 2024-09-20 at 5.00.37 PM.png',0)\n"
      ],
      "metadata": {
        "colab": {
          "base_uri": "https://localhost:8080/"
        },
        "id": "xs6pwa6ZInoX",
        "outputId": "a6ba0f2d-db1e-4e80-94cc-da52480e02ed"
      },
      "execution_count": 6,
      "outputs": [
        {
          "output_type": "stream",
          "name": "stdout",
          "text": [
            "Mounted at /content/drive\n"
          ]
        }
      ]
    },
    {
      "cell_type": "code",
      "source": [
        "#convert it into text\n",
        "text=(pytesseract.image_to_string(image)).lower()\n",
        "print(text)"
      ],
      "metadata": {
        "colab": {
          "base_uri": "https://localhost:8080/"
        },
        "id": "TR-piiYUIgr_",
        "outputId": "fff9d898-397d-4818-b80f-cb8790e83dcd"
      },
      "execution_count": 8,
      "outputs": [
        {
          "output_type": "stream",
          "name": "stdout",
          "text": [
            "amazonin\n",
            "\n",
            "sold by:\n",
            "\n",
            "clicktech retail private limited\n",
            "“khasra numbers:444(p),445(p),459(p),\n",
            "460,461 462,463,464,\n",
            "465,466,467,468,469,470,471,472,473,474,,,\n",
            "75(p),476,477,478, 479,480,\n",
            "\n",
            "481 ,482,483(p),491,492,493(p) village -\n",
            "bhaukapur,\n",
            "\n",
            "lucknow, uttar pradesh, 226401\n",
            "\n",
            "in\n",
            "\n",
            "pan no:aajcc9783e\n",
            "\n",
            "gst registration no:09aajcc9783e1z5\n",
            "dynamic qr code:\n",
            "\n",
            "bays 2\n",
            "\n",
            " \n",
            "\n",
            "order number:402-4170507-6103552\n",
            "order date:23.08.2024\n",
            "\n",
            "tax invoice/bill of supply/cash memo\n",
            "(original for recipient)\n",
            "\n",
            "billing address :\n",
            "\n",
            "pradeep kumar\n",
            "\n",
            "kamaldeep house, maruti nagar\n",
            "rawatbhata, rajasthan, 323307\n",
            "in\n",
            "\n",
            "state/ut code:08\n",
            "\n",
            "shipping address :\n",
            "\n",
            "pradeep kumar\n",
            "\n",
            "pradeep kumar\n",
            "\n",
            "kamaldeep house, maruti nagar\n",
            "rawatbhata, rajasthan, 323307\n",
            "in\n",
            "\n",
            "state/ut code:08\n",
            "\n",
            "place of supply: rajasthan\n",
            "\n",
            "place of delivery:rajasthan\n",
            "\n",
            "invoice number :lko1-721112\n",
            "invoice details :up-lko1-297683823-2425\n",
            "invoice date :23.08.2024\n",
            "\n",
            " \n",
            "\n",
            "si.\n",
            "\n",
            "no| description\n",
            "\n",
            "unit net \\tax |tax |tax total\n",
            "price |amount|rate|type|amount/amount\n",
            "\n",
            " \n",
            "\n",
            "ibocz3zfc5z ( bocz3zfc5z )\n",
            "ihsn:85183020\n",
            "\n",
            " \n",
            "\n",
            "1 |boat airdopes 311 pro truly wireless in ear ear buds w/up to 50\n",
            "ihrs playtime, dual mics with enx™ tech, 50 ms low-latency\n",
            "ibeast™ mode, asap™ charging, |wp™ tech(space grey) |\n",
            "\n",
            "%931.36] 1 |%931.36|18% |igst| 2167.64 | 21,099.00\n",
            "\n",
            " \n",
            "\n",
            " \n",
            "\n",
            " \n",
            "\n",
            " \n",
            "\n",
            " \n",
            "\n",
            " \n",
            "\n",
            "total:\n",
            "\n",
            "%167.64|%1,099.00)\n",
            "\n",
            " \n",
            "\n",
            " \n",
            "\n",
            " \n",
            "\n",
            "[amount in words:\n",
            "[one thousand ninety-nine only\n",
            "\n",
            " \n",
            "\n",
            " \n",
            "\n",
            "for clicktech retail private limited:\n",
            "\n",
            "“ghee\n",
            "\n",
            "authorized signatory\n",
            "\n",
            " \n",
            "\n",
            " \n",
            "\n",
            "whether tax is payable under reverse charge - no\n",
            "\f\n"
          ]
        }
      ]
    },
    {
      "cell_type": "code",
      "source": [
        "#identify the date\n",
        "\n",
        "match=re.findall(r'\\d+[/.-]\\d+[/.-]\\d+', text)\n",
        "\n",
        "st=\" \"\n",
        "st=st.join(match)\n",
        "print(st)"
      ],
      "metadata": {
        "colab": {
          "base_uri": "https://localhost:8080/"
        },
        "id": "dQO83Z_vJX0Q",
        "outputId": "8aa59669-23cb-4949-e259-4877f59e4f23"
      },
      "execution_count": 9,
      "outputs": [
        {
          "output_type": "stream",
          "name": "stdout",
          "text": [
            "402-4170507-6103552 23.08.2024 1-297683823-2425 23.08.2024\n"
          ]
        }
      ]
    },
    {
      "cell_type": "code",
      "source": [
        "nltk.download('punkt',quiet=True)\n",
        "nltk.download('wordnet',quiet=True)"
      ],
      "metadata": {
        "colab": {
          "base_uri": "https://localhost:8080/"
        },
        "id": "AUO9Sj0-KDqh",
        "outputId": "d13b19d8-a3ae-4d30-80a2-d88d5ef655b3"
      },
      "execution_count": 10,
      "outputs": [
        {
          "output_type": "execute_result",
          "data": {
            "text/plain": [
              "True"
            ]
          },
          "metadata": {},
          "execution_count": 10
        }
      ]
    },
    {
      "cell_type": "code",
      "source": [
        "#lets try to extract title\n",
        "sent_tokens=nltk.sent_tokenize(text)\n",
        "#print(sent_tokens)\n",
        "sent_tokens[0].splitlines()[0]"
      ],
      "metadata": {
        "colab": {
          "base_uri": "https://localhost:8080/",
          "height": 35
        },
        "id": "d5O3QfnXKOfA",
        "outputId": "5d6be89f-f71f-4788-9bb6-d6e71d4d55dd"
      },
      "execution_count": 11,
      "outputs": [
        {
          "output_type": "execute_result",
          "data": {
            "text/plain": [
              "'amazonin'"
            ],
            "application/vnd.google.colaboratory.intrinsic+json": {
              "type": "string"
            }
          },
          "metadata": {},
          "execution_count": 11
        }
      ]
    },
    {
      "cell_type": "code",
      "source": [
        "import re\n",
        "\n",
        "def find_total_amount(text):\n",
        "    \"\"\"\n",
        "    This function finds all prices in the text and returns the total amount.\n",
        "    It looks for standard currency symbols ($, €, £) followed by numbers.\n",
        "    \"\"\"\n",
        "    # Find all occurrences of prices with currency symbols like $, €, £, ₹\n",
        "    prices = re.findall(r'[\\$\\₹\\£\\€]?(\\d+(?:\\.\\d{1,2})?)', text)\n",
        "\n",
        "    # Convert prices to floats for summing\n",
        "    price_list = list(map(float, prices))\n",
        "\n",
        "    # Calculate total amount\n",
        "    total_amount = sum(price_list)\n",
        "\n",
        "    return total_amount\n",
        "\n",
        "\n",
        "\n",
        "total_amount = find_total_amount(text)\n",
        "print(f\"Total Amount: Rupees{total_amount:.2f}\")\n"
      ],
      "metadata": {
        "colab": {
          "base_uri": "https://localhost:8080/"
        },
        "id": "9-agKOBiKS66",
        "outputId": "fa10887b-72a7-49ff-c98f-38e509aff763"
      },
      "execution_count": 12,
      "outputs": [
        {
          "output_type": "stream",
          "name": "stdout",
          "text": [
            "Total Amount: Rupees394780156.16\n"
          ]
        }
      ]
    },
    {
      "cell_type": "code",
      "source": [
        "#till here we have extracted date,title and amount.\n",
        "#now its time to categorise bill whether it is shopping or grocery like wise\n",
        "#so i will first tokenise the text and search for key words\n",
        "print(word_tokenize(text))"
      ],
      "metadata": {
        "colab": {
          "base_uri": "https://localhost:8080/"
        },
        "id": "4_C_zGAGKWP6",
        "outputId": "2612e8f1-1146-4bef-9af9-d82f5e6970da"
      },
      "execution_count": 13,
      "outputs": [
        {
          "output_type": "stream",
          "name": "stdout",
          "text": [
            "['amazonin', 'sold', 'by', ':', 'clicktech', 'retail', 'private', 'limited', '“', 'khasra', 'numbers:444', '(', 'p', ')', ',445', '(', 'p', ')', ',459', '(', 'p', ')', ',', '460,461', '462,463,464', ',', '465,466,467,468,469,470,471,472,473,474', ',', ',', ',', '75', '(', 'p', ')', ',476,477,478', ',', '479,480', ',', '481', ',482,483', '(', 'p', ')', ',491,492,493', '(', 'p', ')', 'village', '-', 'bhaukapur', ',', 'lucknow', ',', 'uttar', 'pradesh', ',', '226401', 'in', 'pan', 'no', ':', 'aajcc9783e', 'gst', 'registration', 'no:09aajcc9783e1z5', 'dynamic', 'qr', 'code', ':', 'bays', '2', 'order', 'number:402-4170507-6103552', 'order', 'date:23.08.2024', 'tax', 'invoice/bill', 'of', 'supply/cash', 'memo', '(', 'original', 'for', 'recipient', ')', 'billing', 'address', ':', 'pradeep', 'kumar', 'kamaldeep', 'house', ',', 'maruti', 'nagar', 'rawatbhata', ',', 'rajasthan', ',', '323307', 'in', 'state/ut', 'code:08', 'shipping', 'address', ':', 'pradeep', 'kumar', 'pradeep', 'kumar', 'kamaldeep', 'house', ',', 'maruti', 'nagar', 'rawatbhata', ',', 'rajasthan', ',', '323307', 'in', 'state/ut', 'code:08', 'place', 'of', 'supply', ':', 'rajasthan', 'place', 'of', 'delivery', ':', 'rajasthan', 'invoice', 'number', ':', 'lko1-721112', 'invoice', 'details', ':', 'up-lko1-297683823-2425', 'invoice', 'date', ':23.08.2024', 'si', '.', 'no|', 'description', 'unit', 'net', '\\\\tax', '|tax', '|tax', 'total', 'price', '|amount|rate|type|amount/amount', 'ibocz3zfc5z', '(', 'bocz3zfc5z', ')', 'ihsn:85183020', '1', '|boat', 'airdopes', '311', 'pro', 'truly', 'wireless', 'in', 'ear', 'ear', 'buds', 'w/up', 'to', '50', 'ihrs', 'playtime', ',', 'dual', 'mics', 'with', 'enx™', 'tech', ',', '50', 'ms', 'low-latency', 'ibeast™', 'mode', ',', 'asap™', 'charging', ',', '|wp™', 'tech', '(', 'space', 'grey', ')', '|', '%', '931.36', ']', '1', '|', '%', '931.36|18', '%', '|igst|', '2167.64', '|', '21,099.00', 'total', ':', '%', '167.64|', '%', '1,099.00', ')', '[', 'amount', 'in', 'words', ':', '[', 'one', 'thousand', 'ninety-nine', 'only', 'for', 'clicktech', 'retail', 'private', 'limited', ':', '“', 'ghee', 'authorized', 'signatory', 'whether', 'tax', 'is', 'payable', 'under', 'reverse', 'charge', '-', 'no']\n"
          ]
        }
      ]
    },
    {
      "cell_type": "code",
      "source": [
        "#we will remove punctuation\n",
        "tokenizer = nltk.RegexpTokenizer(r\"\\w+\")\n",
        "new_words = tokenizer.tokenize(text)\n",
        "print(new_words)"
      ],
      "metadata": {
        "colab": {
          "base_uri": "https://localhost:8080/"
        },
        "id": "HlaIRye7KaS7",
        "outputId": "f53e7d5c-8bab-4057-a7f1-cec86ac82133"
      },
      "execution_count": 14,
      "outputs": [
        {
          "output_type": "stream",
          "name": "stdout",
          "text": [
            "['amazonin', 'sold', 'by', 'clicktech', 'retail', 'private', 'limited', 'khasra', 'numbers', '444', 'p', '445', 'p', '459', 'p', '460', '461', '462', '463', '464', '465', '466', '467', '468', '469', '470', '471', '472', '473', '474', '75', 'p', '476', '477', '478', '479', '480', '481', '482', '483', 'p', '491', '492', '493', 'p', 'village', 'bhaukapur', 'lucknow', 'uttar', 'pradesh', '226401', 'in', 'pan', 'no', 'aajcc9783e', 'gst', 'registration', 'no', '09aajcc9783e1z5', 'dynamic', 'qr', 'code', 'bays', '2', 'order', 'number', '402', '4170507', '6103552', 'order', 'date', '23', '08', '2024', 'tax', 'invoice', 'bill', 'of', 'supply', 'cash', 'memo', 'original', 'for', 'recipient', 'billing', 'address', 'pradeep', 'kumar', 'kamaldeep', 'house', 'maruti', 'nagar', 'rawatbhata', 'rajasthan', '323307', 'in', 'state', 'ut', 'code', '08', 'shipping', 'address', 'pradeep', 'kumar', 'pradeep', 'kumar', 'kamaldeep', 'house', 'maruti', 'nagar', 'rawatbhata', 'rajasthan', '323307', 'in', 'state', 'ut', 'code', '08', 'place', 'of', 'supply', 'rajasthan', 'place', 'of', 'delivery', 'rajasthan', 'invoice', 'number', 'lko1', '721112', 'invoice', 'details', 'up', 'lko1', '297683823', '2425', 'invoice', 'date', '23', '08', '2024', 'si', 'no', 'description', 'unit', 'net', 'tax', 'tax', 'tax', 'total', 'price', 'amount', 'rate', 'type', 'amount', 'amount', 'ibocz3zfc5z', 'bocz3zfc5z', 'ihsn', '85183020', '1', 'boat', 'airdopes', '311', 'pro', 'truly', 'wireless', 'in', 'ear', 'ear', 'buds', 'w', 'up', 'to', '50', 'ihrs', 'playtime', 'dual', 'mics', 'with', 'enx', 'tech', '50', 'ms', 'low', 'latency', 'ibeast', 'mode', 'asap', 'charging', 'wp', 'tech', 'space', 'grey', '931', '36', '1', '931', '36', '18', 'igst', '2167', '64', '21', '099', '00', 'total', '167', '64', '1', '099', '00', 'amount', 'in', 'words', 'one', 'thousand', 'ninety', 'nine', 'only', 'for', 'clicktech', 'retail', 'private', 'limited', 'ghee', 'authorized', 'signatory', 'whether', 'tax', 'is', 'payable', 'under', 'reverse', 'charge', 'no']\n"
          ]
        }
      ]
    },
    {
      "cell_type": "code",
      "source": [
        "#stop_words = set(nltk.corpus.stopwords.words('english'))\n",
        "nltk.download('stopwords')"
      ],
      "metadata": {
        "colab": {
          "base_uri": "https://localhost:8080/"
        },
        "id": "EpJJV1RjKdbD",
        "outputId": "3e09caf9-fa2b-4db8-d7e2-0712d56e5a53"
      },
      "execution_count": 15,
      "outputs": [
        {
          "output_type": "stream",
          "name": "stderr",
          "text": [
            "[nltk_data] Downloading package stopwords to /root/nltk_data...\n",
            "[nltk_data]   Unzipping corpora/stopwords.zip.\n"
          ]
        },
        {
          "output_type": "execute_result",
          "data": {
            "text/plain": [
              "True"
            ]
          },
          "metadata": {},
          "execution_count": 15
        }
      ]
    },
    {
      "cell_type": "code",
      "source": [
        "#there are stop words like a ,an,the etc which are not required\n",
        "#so we need to filter them\n",
        "stop_words = set(nltk.corpus.stopwords.words('english'))"
      ],
      "metadata": {
        "id": "O_xklIT7KgcZ"
      },
      "execution_count": 16,
      "outputs": []
    },
    {
      "cell_type": "code",
      "source": [
        "#there is the filetred list\n",
        "filtered_list=[w for w in new_words if w not in stop_words ]\n",
        "print(filtered_list)"
      ],
      "metadata": {
        "colab": {
          "base_uri": "https://localhost:8080/"
        },
        "id": "nucVB6w7Kjhb",
        "outputId": "cdd95f72-3a1c-4c78-c070-d4f6b86387a1"
      },
      "execution_count": 17,
      "outputs": [
        {
          "output_type": "stream",
          "name": "stdout",
          "text": [
            "['amazonin', 'sold', 'clicktech', 'retail', 'private', 'limited', 'khasra', 'numbers', '444', 'p', '445', 'p', '459', 'p', '460', '461', '462', '463', '464', '465', '466', '467', '468', '469', '470', '471', '472', '473', '474', '75', 'p', '476', '477', '478', '479', '480', '481', '482', '483', 'p', '491', '492', '493', 'p', 'village', 'bhaukapur', 'lucknow', 'uttar', 'pradesh', '226401', 'pan', 'aajcc9783e', 'gst', 'registration', '09aajcc9783e1z5', 'dynamic', 'qr', 'code', 'bays', '2', 'order', 'number', '402', '4170507', '6103552', 'order', 'date', '23', '08', '2024', 'tax', 'invoice', 'bill', 'supply', 'cash', 'memo', 'original', 'recipient', 'billing', 'address', 'pradeep', 'kumar', 'kamaldeep', 'house', 'maruti', 'nagar', 'rawatbhata', 'rajasthan', '323307', 'state', 'ut', 'code', '08', 'shipping', 'address', 'pradeep', 'kumar', 'pradeep', 'kumar', 'kamaldeep', 'house', 'maruti', 'nagar', 'rawatbhata', 'rajasthan', '323307', 'state', 'ut', 'code', '08', 'place', 'supply', 'rajasthan', 'place', 'delivery', 'rajasthan', 'invoice', 'number', 'lko1', '721112', 'invoice', 'details', 'lko1', '297683823', '2425', 'invoice', 'date', '23', '08', '2024', 'si', 'description', 'unit', 'net', 'tax', 'tax', 'tax', 'total', 'price', 'amount', 'rate', 'type', 'amount', 'amount', 'ibocz3zfc5z', 'bocz3zfc5z', 'ihsn', '85183020', '1', 'boat', 'airdopes', '311', 'pro', 'truly', 'wireless', 'ear', 'ear', 'buds', 'w', '50', 'ihrs', 'playtime', 'dual', 'mics', 'enx', 'tech', '50', 'ms', 'low', 'latency', 'ibeast', 'mode', 'asap', 'charging', 'wp', 'tech', 'space', 'grey', '931', '36', '1', '931', '36', '18', 'igst', '2167', '64', '21', '099', '00', 'total', '167', '64', '1', '099', '00', 'amount', 'words', 'one', 'thousand', 'ninety', 'nine', 'clicktech', 'retail', 'private', 'limited', 'ghee', 'authorized', 'signatory', 'whether', 'tax', 'payable', 'reverse', 'charge']\n"
          ]
        }
      ]
    },
    {
      "cell_type": "code",
      "source": [
        "#entertainment\n",
        "entertainment = []\n",
        "for syn in wordnet.synsets(\"entertainment\"):\n",
        "    for l in syn.lemmas():\n",
        "        entertainment.append(l.name())\n",
        "\n",
        "l=['happy','restaurant','food','kitchen','hotel','room','park','movie','cinema','popcorn','combo meal']\n",
        "entertainment=entertainment+l"
      ],
      "metadata": {
        "id": "V1hnqGtxKmZ7"
      },
      "execution_count": 18,
      "outputs": []
    },
    {
      "cell_type": "code",
      "source": [
        "#home utility\n",
        "home_utility=[]\n",
        "for syn in wordnet.synsets(\"home\"):\n",
        "    for l in syn.lemmas():\n",
        "         home_utility.append(l.name())\n",
        "l2=['internet','telephone','elecricity','meter','wifi','broadband','consumer','reading','gas','water','postpaid','prepaid']\n",
        "home_utility+=l2"
      ],
      "metadata": {
        "id": "dSglD1u-KpX-"
      },
      "execution_count": 19,
      "outputs": []
    },
    {
      "cell_type": "code",
      "source": [
        "#grocery\n",
        "\n",
        "grocery=[]\n",
        "for syn in wordnet.synsets(\"grocery\"):\n",
        "    for l in syn.lemmas():\n",
        "         grocery.append(l.name())\n",
        "l3=['bigbasket','milk','atta','sugar','suflower','oil','bread','vegetabe','fruit','salt','paneer']\n",
        "grocery+=l3"
      ],
      "metadata": {
        "id": "qtPMO_ZTKrxF"
      },
      "execution_count": 20,
      "outputs": []
    },
    {
      "cell_type": "code",
      "source": [
        "#investment\n",
        "investment=[]\n",
        "for syn in wordnet.synsets(\"investment\"):\n",
        "    for l in syn.lemmas():\n",
        "         investment.append(l.name())\n",
        "l1=['endowment','grant','loan','applicant','income','expenditure','profit','interest','expense','finance','property','money','fixed','deposit','kissan','vikas']\n",
        "investment=investment+l1"
      ],
      "metadata": {
        "id": "W4S-4zIJKujk"
      },
      "execution_count": 21,
      "outputs": []
    },
    {
      "cell_type": "code",
      "source": [
        "#travel and transportation\n",
        "transport=[]\n",
        "for syn in wordnet.synsets(\"car\"):\n",
        "    for l in syn.lemmas():\n",
        "         transport.append(l.name())\n",
        "l4=['cab','ola','uber','autorickshaw','railway','air','emirates','aerofloat','taxi','booking','road','highway']\n",
        "transport+=l4"
      ],
      "metadata": {
        "id": "xKTDgOreKyGu"
      },
      "execution_count": 22,
      "outputs": []
    },
    {
      "cell_type": "code",
      "source": [
        "#shopping\n",
        "shopping=[]\n",
        "for syn in wordnet.synsets(\"dress\"):\n",
        "    for l in syn.lemmas():\n",
        "         shopping.append(l.name())\n",
        "l4=['iphone','laptop','saree','max','pantaloons','westside','vedic','makeup','lipstick','cosmetics','mac','facewash','heels','crocs','footwear','purse']\n",
        "shopping+=l4"
      ],
      "metadata": {
        "id": "bpTddcytK1Ou"
      },
      "execution_count": 23,
      "outputs": []
    },
    {
      "cell_type": "code",
      "source": [
        "#here we will check that the bill belongs to which category\n",
        "#we will make that category true.\n",
        "for word in filtered_list:\n",
        "    if word in entertainment:\n",
        "        e=True\n",
        "        break\n",
        "    elif word in investment:\n",
        "        inv=True\n",
        "        break\n",
        "    elif word in grocery:\n",
        "        g=True\n",
        "        break\n",
        "    elif word in shopping:\n",
        "        s=True\n",
        "        break\n",
        "    elif word in transport:\n",
        "        t=True\n",
        "        break\n",
        "    elif word in home_utility:\n",
        "        h=True\n",
        "        break"
      ],
      "metadata": {
        "id": "NbLVyqqYK4wj"
      },
      "execution_count": 24,
      "outputs": []
    },
    {
      "cell_type": "code",
      "source": [
        "#this is how i created all the csv files.\n",
        "'''with open('entertainment1.csv', 'a', newline='') as csvfile:\n",
        "    spamwriter = csv.writer(csvfile, delimiter=',',quoting=csv.QUOTE_MINIMAL)\n",
        "    spamwriter.writerow(['date','organisation','amount'])'''\n",
        "\n"
      ],
      "metadata": {
        "colab": {
          "base_uri": "https://localhost:8080/",
          "height": 71
        },
        "id": "ZAR9L_ZwK-01",
        "outputId": "10dfdb86-c2d0-45b2-a68a-0e2e37b89043"
      },
      "execution_count": 25,
      "outputs": [
        {
          "output_type": "execute_result",
          "data": {
            "text/plain": [
              "\"with open('entertainment1.csv', 'a', newline='') as csvfile:\\n    spamwriter = csv.writer(csvfile, delimiter=',',quoting=csv.QUOTE_MINIMAL)\\n    spamwriter.writerow(['date','organisation','amount'])\""
            ],
            "application/vnd.google.colaboratory.intrinsic+json": {
              "type": "string"
            }
          },
          "metadata": {},
          "execution_count": 25
        }
      ]
    },
    {
      "cell_type": "code",
      "source": [
        "#question 2\n",
        "#this code the category in which the bill belongs to\n",
        "#if e is true then entertainment categrory and we will ,ake filename as entertainment.csv using\n",
        "#formatting\n",
        "if(e):\n",
        "    print(\"entertainment category\")\n",
        "    filename='{}.csv'.format('entertainment')\n",
        "    #df=pd.read_csv('entertainment.csv')\n",
        "elif(inv):\n",
        "    print(\"investment category\")\n",
        "    filename='{}.csv'.format('investment')\n",
        "    #df=pd.read_csv('investment.csv')\n",
        "elif(s):\n",
        "    print(\"shopping category\")\n",
        "    filename='{}.csv'.format('shopping')\n",
        "    #df=pd.read_csv('shopping.csv')\n",
        "elif(g):\n",
        "    print(\"grocery category\")\n",
        "    filename='{}.csv'.format('grocery')\n",
        "    #df=pd.read_csv('grocery.csv')\n",
        "elif(t):\n",
        "    print(\"transport category\")\n",
        "    filename='{}.csv'.format('transport')\n",
        "    #df=pd.read_csv('transport.csv')\n",
        "elif(h):\n",
        "    print(\"home utility category\")\n",
        "    filename='{}.csv'.format('home')\n",
        "    #df=pd.read_csv('home.csv')\n",
        "else:\n",
        "    print(\"others\")\n",
        "    filename='{}.csv'.format('others')\n",
        "    #df=pd.read_csv('others.csv')\n",
        "\n"
      ],
      "metadata": {
        "colab": {
          "base_uri": "https://localhost:8080/",
          "height": 233
        },
        "id": "U49rD5FTLB7Q",
        "outputId": "eaf9b706-ed65-4141-d00e-29beb5f5e2e3"
      },
      "execution_count": 26,
      "outputs": [
        {
          "output_type": "error",
          "ename": "NameError",
          "evalue": "name 'e' is not defined",
          "traceback": [
            "\u001b[0;31m---------------------------------------------------------------------------\u001b[0m",
            "\u001b[0;31mNameError\u001b[0m                                 Traceback (most recent call last)",
            "\u001b[0;32m<ipython-input-26-c13719129a7e>\u001b[0m in \u001b[0;36m<cell line: 5>\u001b[0;34m()\u001b[0m\n\u001b[1;32m      3\u001b[0m \u001b[0;31m#if e is true then entertainment categrory and we will ,ake filename as entertainment.csv using\u001b[0m\u001b[0;34m\u001b[0m\u001b[0;34m\u001b[0m\u001b[0m\n\u001b[1;32m      4\u001b[0m \u001b[0;31m#formatting\u001b[0m\u001b[0;34m\u001b[0m\u001b[0;34m\u001b[0m\u001b[0m\n\u001b[0;32m----> 5\u001b[0;31m \u001b[0;32mif\u001b[0m\u001b[0;34m(\u001b[0m\u001b[0me\u001b[0m\u001b[0;34m)\u001b[0m\u001b[0;34m:\u001b[0m\u001b[0;34m\u001b[0m\u001b[0;34m\u001b[0m\u001b[0m\n\u001b[0m\u001b[1;32m      6\u001b[0m     \u001b[0mprint\u001b[0m\u001b[0;34m(\u001b[0m\u001b[0;34m\"entertainment category\"\u001b[0m\u001b[0;34m)\u001b[0m\u001b[0;34m\u001b[0m\u001b[0;34m\u001b[0m\u001b[0m\n\u001b[1;32m      7\u001b[0m     \u001b[0mfilename\u001b[0m\u001b[0;34m=\u001b[0m\u001b[0;34m'{}.csv'\u001b[0m\u001b[0;34m.\u001b[0m\u001b[0mformat\u001b[0m\u001b[0;34m(\u001b[0m\u001b[0;34m'entertainment'\u001b[0m\u001b[0;34m)\u001b[0m\u001b[0;34m\u001b[0m\u001b[0;34m\u001b[0m\u001b[0m\n",
            "\u001b[0;31mNameError\u001b[0m: name 'e' is not defined"
          ]
        }
      ]
    },
    {
      "cell_type": "code",
      "source": [
        "#here we will check that the bill belongs to which category\n",
        "#we will make that category true.\n",
        "\n",
        "# Initialize e, inv, g, s, t, and h to False\n",
        "e = False\n",
        "inv = False\n",
        "g = False\n",
        "s = False\n",
        "t = False\n",
        "h = False\n",
        "\n",
        "for word in filtered_list:\n",
        "    if word in entertainment:\n",
        "        e=True\n",
        "        break\n",
        "    elif word in investment:\n",
        "        inv=True\n",
        "        break\n",
        "    elif word in grocery:\n",
        "        g=True\n",
        "        break\n",
        "    elif word in shopping:\n",
        "        s=True\n",
        "        break\n",
        "    elif word in transport:\n",
        "        t=True\n",
        "        break\n",
        "    elif word in home_utility:\n",
        "        h=True\n",
        "        break"
      ],
      "metadata": {
        "id": "ZAGTrJrQ9wFx"
      },
      "execution_count": 27,
      "outputs": []
    },
    {
      "cell_type": "code",
      "source": [
        "#add the contents in thier respective csv file\n",
        "#Assign a value to the variable head before using it in the list.\n",
        "head = \"some value\" #Example\n",
        "row_contents = [st,head,x]\n",
        "from csv import writer\n",
        "\n",
        "def append_list_as_row(file, list_of_elem):\n",
        "\n",
        "    with open(file, 'a+', newline='') as write_obj:\n",
        "\n",
        "        csv_writer = writer(write_obj)\n",
        "\n",
        "        csv_writer.writerow(list_of_elem)\n",
        "append_list_as_row(filename, row_contents)"
      ],
      "metadata": {
        "id": "lTGp_E9SLKz3",
        "colab": {
          "base_uri": "https://localhost:8080/",
          "height": 216
        },
        "outputId": "c4537f8e-1823-4714-f39a-fa1ddaaf1a44"
      },
      "execution_count": 28,
      "outputs": [
        {
          "output_type": "error",
          "ename": "NameError",
          "evalue": "name 'x' is not defined",
          "traceback": [
            "\u001b[0;31m---------------------------------------------------------------------------\u001b[0m",
            "\u001b[0;31mNameError\u001b[0m                                 Traceback (most recent call last)",
            "\u001b[0;32m<ipython-input-28-4f2fd45b8176>\u001b[0m in \u001b[0;36m<cell line: 4>\u001b[0;34m()\u001b[0m\n\u001b[1;32m      2\u001b[0m \u001b[0;31m#Assign a value to the variable head before using it in the list.\u001b[0m\u001b[0;34m\u001b[0m\u001b[0;34m\u001b[0m\u001b[0m\n\u001b[1;32m      3\u001b[0m \u001b[0mhead\u001b[0m \u001b[0;34m=\u001b[0m \u001b[0;34m\"some value\"\u001b[0m \u001b[0;31m#Example\u001b[0m\u001b[0;34m\u001b[0m\u001b[0;34m\u001b[0m\u001b[0m\n\u001b[0;32m----> 4\u001b[0;31m \u001b[0mrow_contents\u001b[0m \u001b[0;34m=\u001b[0m \u001b[0;34m[\u001b[0m\u001b[0mst\u001b[0m\u001b[0;34m,\u001b[0m\u001b[0mhead\u001b[0m\u001b[0;34m,\u001b[0m\u001b[0mx\u001b[0m\u001b[0;34m]\u001b[0m\u001b[0;34m\u001b[0m\u001b[0;34m\u001b[0m\u001b[0m\n\u001b[0m\u001b[1;32m      5\u001b[0m \u001b[0;32mfrom\u001b[0m \u001b[0mcsv\u001b[0m \u001b[0;32mimport\u001b[0m \u001b[0mwriter\u001b[0m\u001b[0;34m\u001b[0m\u001b[0;34m\u001b[0m\u001b[0m\n\u001b[1;32m      6\u001b[0m \u001b[0;34m\u001b[0m\u001b[0m\n",
            "\u001b[0;31mNameError\u001b[0m: name 'x' is not defined"
          ]
        }
      ]
    },
    {
      "cell_type": "code",
      "source": [],
      "metadata": {
        "id": "HQGWk8Tu-ACG"
      },
      "execution_count": null,
      "outputs": []
    }
  ]
}